{
  "cells": [
    {
      "cell_type": "code",
      "execution_count": 1,
      "id": "00e9be23",
      "metadata": {},
      "outputs": [],
      "source": [
        "import numpy as np \n",
        "import pandas as pd \n",
        "import matplotlib.pyplot as plt\n",
        "import cv2\n",
        "import tensorflow as tf\n",
        "from PIL import Image\n",
        "import os\n",
        "from sklearn.model_selection import train_test_split\n",
        "from keras.utils import to_categorical\n",
        "from keras.models import Sequential, load_model\n",
        "from keras.layers import Conv2D, MaxPool2D, Dense, Flatten, Dropout"
      ]
    },
    {
      "cell_type": "code",
      "execution_count": 2,
      "id": "0091175e",
      "metadata": {
        "colab": {
          "base_uri": "https://localhost:8080/",
          "height": 252
        },
        "id": "0091175e",
        "outputId": "3d8c39e1-e2d2-4cef-e6ae-2b2a728b24a0"
      },
      "outputs": [
        {
          "name": "stdout",
          "output_type": "stream",
          "text": [
            "d:\\Traffic sign classification\\Train\\0\n",
            "d:\\Traffic sign classification\\Train\\1\n",
            "d:\\Traffic sign classification\\Train\\2\n",
            "d:\\Traffic sign classification\\Train\\3\n",
            "d:\\Traffic sign classification\\Train\\4\n",
            "d:\\Traffic sign classification\\Train\\5\n",
            "d:\\Traffic sign classification\\Train\\6\n",
            "d:\\Traffic sign classification\\Train\\7\n",
            "d:\\Traffic sign classification\\Train\\8\n",
            "d:\\Traffic sign classification\\Train\\9\n",
            "d:\\Traffic sign classification\\Train\\10\n",
            "d:\\Traffic sign classification\\Train\\11\n",
            "d:\\Traffic sign classification\\Train\\12\n",
            "d:\\Traffic sign classification\\Train\\13\n",
            "d:\\Traffic sign classification\\Train\\14\n",
            "d:\\Traffic sign classification\\Train\\15\n",
            "d:\\Traffic sign classification\\Train\\16\n",
            "d:\\Traffic sign classification\\Train\\17\n",
            "d:\\Traffic sign classification\\Train\\18\n",
            "d:\\Traffic sign classification\\Train\\19\n",
            "d:\\Traffic sign classification\\Train\\20\n",
            "d:\\Traffic sign classification\\Train\\21\n",
            "d:\\Traffic sign classification\\Train\\22\n",
            "d:\\Traffic sign classification\\Train\\23\n",
            "d:\\Traffic sign classification\\Train\\24\n",
            "d:\\Traffic sign classification\\Train\\25\n",
            "d:\\Traffic sign classification\\Train\\26\n",
            "d:\\Traffic sign classification\\Train\\27\n",
            "d:\\Traffic sign classification\\Train\\28\n",
            "d:\\Traffic sign classification\\Train\\29\n",
            "d:\\Traffic sign classification\\Train\\30\n",
            "d:\\Traffic sign classification\\Train\\31\n",
            "d:\\Traffic sign classification\\Train\\32\n",
            "d:\\Traffic sign classification\\Train\\33\n",
            "d:\\Traffic sign classification\\Train\\34\n",
            "d:\\Traffic sign classification\\Train\\35\n",
            "d:\\Traffic sign classification\\Train\\36\n",
            "d:\\Traffic sign classification\\Train\\37\n",
            "d:\\Traffic sign classification\\Train\\38\n",
            "d:\\Traffic sign classification\\Train\\39\n",
            "d:\\Traffic sign classification\\Train\\40\n",
            "d:\\Traffic sign classification\\Train\\41\n",
            "Error loading image\n",
            "d:\\Traffic sign classification\\Train\\42\n"
          ]
        }
      ],
      "source": [
        "data = []\n",
        "labels = []\n",
        "classes = 43\n",
        "cur_path = os.getcwd()\n",
        "#Retrieving the images and their labels\n",
        "for i in range(classes):\n",
        "    path = os.path.join(cur_path,'Train',str(i))\n",
        "    # path = 'D:\\Traffic sign classification\\Train\\\\'+str(i)\n",
        "    print(path)\n",
        "    # break\n",
        "    images = os.listdir(path)\n",
        "    for a in images:\n",
        "        try:\n",
        "            image = Image.open(path + '/'+ a)\n",
        "            image = image.resize((30,30))\n",
        "            image = np.array(image)\n",
        "            sim = Image.fromarray(image)\n",
        "            data.append(image)\n",
        "            labels.append(i)\n",
        "        except:\n",
        "            print(\"Error loading image\")\n",
        "#Converting lists into numpy arrays\n",
        "data = np.array(data)\n",
        "labels = np.array(labels)"
      ]
    },
    {
      "cell_type": "code",
      "execution_count": 3,
      "id": "1b06c664",
      "metadata": {
        "id": "1b06c664"
      },
      "outputs": [
        {
          "name": "stdout",
          "output_type": "stream",
          "text": [
            "(39208, 30, 30, 3) (39208,)\n"
          ]
        }
      ],
      "source": [
        "print(data.shape, labels.shape)"
      ]
    },
    {
      "cell_type": "code",
      "execution_count": 4,
      "id": "1cec99bf",
      "metadata": {
        "id": "1cec99bf"
      },
      "outputs": [
        {
          "name": "stdout",
          "output_type": "stream",
          "text": [
            "(31366, 30, 30, 3) (7842, 30, 30, 3) (31366,) (7842,)\n"
          ]
        }
      ],
      "source": [
        "X_train, X_test, y_train, y_test = train_test_split(data, labels, test_size=0.2, random_state=42)\n",
        "print(X_train.shape, X_test.shape, y_train.shape, y_test.shape)"
      ]
    },
    {
      "cell_type": "code",
      "execution_count": 5,
      "id": "bd1b87de",
      "metadata": {
        "id": "bd1b87de"
      },
      "outputs": [],
      "source": [
        "y_train = to_categorical(y_train, 43)\n",
        "y_test = to_categorical(y_test, 43)"
      ]
    },
    {
      "cell_type": "code",
      "execution_count": 6,
      "id": "2775e701",
      "metadata": {
        "id": "2775e701"
      },
      "outputs": [],
      "source": [
        "model = Sequential()\n",
        "model.add(Conv2D(filters=32, kernel_size=(5,5), activation='relu', input_shape=X_train.shape[1:]))\n",
        "model.add(Conv2D(filters=32, kernel_size=(5,5), activation='relu'))\n",
        "model.add(MaxPool2D(pool_size=(2, 2)))\n",
        "model.add(Dropout(rate=0.25))\n",
        "model.add(Conv2D(filters=64, kernel_size=(3, 3), activation='relu'))\n",
        "model.add(Conv2D(filters=64, kernel_size=(3, 3), activation='relu'))\n",
        "model.add(MaxPool2D(pool_size=(2, 2)))\n",
        "model.add(Dropout(rate=0.25))\n",
        "model.add(Flatten())\n",
        "model.add(Dense(256, activation='relu'))\n",
        "model.add(Dropout(rate=0.5))\n",
        "model.add(Dense(43, activation='softmax'))"
      ]
    },
    {
      "cell_type": "code",
      "execution_count": 7,
      "id": "c0127f40",
      "metadata": {
        "id": "c0127f40"
      },
      "outputs": [
        {
          "name": "stdout",
          "output_type": "stream",
          "text": [
            "Epoch 1/15\n",
            "981/981 [==============================] - 59s 59ms/step - loss: 2.3906 - accuracy: 0.4067 - val_loss: 0.8752 - val_accuracy: 0.7621\n",
            "Epoch 2/15\n",
            "981/981 [==============================] - 73s 75ms/step - loss: 1.0902 - accuracy: 0.6733 - val_loss: 0.4671 - val_accuracy: 0.8683\n",
            "Epoch 3/15\n",
            "981/981 [==============================] - 142s 145ms/step - loss: 0.7343 - accuracy: 0.7755 - val_loss: 0.3670 - val_accuracy: 0.8922\n",
            "Epoch 4/15\n",
            "981/981 [==============================] - 166s 169ms/step - loss: 0.5445 - accuracy: 0.8341 - val_loss: 0.2366 - val_accuracy: 0.9337\n",
            "Epoch 5/15\n",
            "981/981 [==============================] - 105s 107ms/step - loss: 0.4582 - accuracy: 0.8614 - val_loss: 0.1792 - val_accuracy: 0.9470\n",
            "Epoch 6/15\n",
            "981/981 [==============================] - 114s 116ms/step - loss: 0.3861 - accuracy: 0.8856 - val_loss: 0.1357 - val_accuracy: 0.9621\n",
            "Epoch 7/15\n",
            "981/981 [==============================] - 104s 106ms/step - loss: 0.3397 - accuracy: 0.8989 - val_loss: 0.0964 - val_accuracy: 0.9750\n",
            "Epoch 8/15\n",
            "981/981 [==============================] - 133s 135ms/step - loss: 0.3350 - accuracy: 0.9020 - val_loss: 0.0929 - val_accuracy: 0.9735\n",
            "Epoch 9/15\n",
            "981/981 [==============================] - 114s 116ms/step - loss: 0.3155 - accuracy: 0.9088 - val_loss: 0.0891 - val_accuracy: 0.9736\n",
            "Epoch 10/15\n",
            "981/981 [==============================] - 60s 61ms/step - loss: 0.2915 - accuracy: 0.9163 - val_loss: 0.1272 - val_accuracy: 0.9656\n",
            "Epoch 11/15\n",
            "981/981 [==============================] - 58s 59ms/step - loss: 0.3026 - accuracy: 0.9138 - val_loss: 0.1231 - val_accuracy: 0.9644\n",
            "Epoch 12/15\n",
            "981/981 [==============================] - 58s 59ms/step - loss: 0.2723 - accuracy: 0.9233 - val_loss: 0.0617 - val_accuracy: 0.9833\n",
            "Epoch 13/15\n",
            "981/981 [==============================] - 59s 60ms/step - loss: 0.2582 - accuracy: 0.9289 - val_loss: 0.1013 - val_accuracy: 0.9719\n",
            "Epoch 14/15\n",
            "981/981 [==============================] - 59s 60ms/step - loss: 0.2676 - accuracy: 0.9258 - val_loss: 0.0664 - val_accuracy: 0.9819\n",
            "Epoch 15/15\n",
            "981/981 [==============================] - 60s 61ms/step - loss: 0.2584 - accuracy: 0.9288 - val_loss: 0.0841 - val_accuracy: 0.9773\n"
          ]
        }
      ],
      "source": [
        "model.compile(loss='categorical_crossentropy', optimizer='adam', metrics=['accuracy'])\n",
        "epochs = 15\n",
        "history = model.fit(X_train, y_train, batch_size=32, epochs=epochs, validation_data=(X_test, y_test))\n",
        "model.save(\"my_model.h5\")"
      ]
    },
    {
      "cell_type": "code",
      "execution_count": 8,
      "id": "e67809eb",
      "metadata": {
        "id": "e67809eb"
      },
      "outputs": [
        {
          "data": {
            "image/png": "[encoded data removed]",
            "text/plain": [
              "<Figure size 640x480 with 1 Axes>"
            ]
          },
          "metadata": {},
          "output_type": "display_data"
        }
      ],
      "source": [
        "plt.figure(0)\n",
        "plt.plot(history.history['accuracy'], label='training accuracy')\n",
        "plt.plot(history.history['val_accuracy'], label='val accuracy')\n",
        "plt.title('Accuracy')\n",
        "plt.xlabel('epochs')\n",
        "plt.ylabel('accuracy')\n",
        "plt.legend()\n",
        "plt.show()"
      ]
    },
    {
      "cell_type": "code",
      "execution_count": 9,
      "id": "39a31f50",
      "metadata": {
        "id": "39a31f50"
      },
      "outputs": [
        {
          "data": {
            "image/png": "[encoded data removed]",
            "text/plain": [
              "<Figure size 640x480 with 1 Axes>"
            ]
          },
          "metadata": {},
          "output_type": "display_data"
        }
      ],
      "source": [
        "plt.figure(1)\n",
        "plt.plot(history.history['loss'], label='training loss')\n",
        "plt.plot(history.history['val_loss'], label='val loss')\n",
        "plt.title('Loss')\n",
        "plt.xlabel('epochs')\n",
        "plt.ylabel('loss')\n",
        "plt.legend()\n",
        "plt.show()"
      ]
    },
    {
      "cell_type": "code",
      "execution_count": 10,
      "id": "6f4988a8",
      "metadata": {
        "id": "6f4988a8"
      },
      "outputs": [],
      "source": [
        "from sklearn.metrics import accuracy_score\n",
        "y_test = pd.read_csv('Test.csv')\n",
        "labels = y_test[\"ClassId\"].values\n",
        "imgs = y_test[\"Path\"].values\n",
        "data=[]\n",
        "for img in imgs:\n",
        "    image = Image.open(img)\n",
        "    image = image.resize((30,30))\n",
        "    data.append(np.array(image))\n",
        "X_test=np.array(data)"
      ]
    },
    {
      "cell_type": "code",
      "execution_count": 11,
      "id": "01579c66",
      "metadata": {
        "id": "01579c66"
      },
      "outputs": [
        {
          "name": "stdout",
          "output_type": "stream",
          "text": [
            "395/395 [==============================] - 6s 15ms/step\n",
            "0.9416468725257324\n"
          ]
        }
      ],
      "source": [
        "predict_x=model.predict(X_test)\n",
        "pred=np.argmax(predict_x,axis=1)\n",
        "#Accuracy with the test data\n",
        "from sklearn.metrics import accuracy_score\n",
        "print(accuracy_score(labels, pred))\n"
      ]
    },
    {
      "cell_type": "code",
      "execution_count": 12,
      "id": "d540bbd8",
      "metadata": {
        "id": "d540bbd8"
      },
      "outputs": [],
      "source": [
        "model.save('traffic_classifier.h5')"
      ]
    },
    {
      "cell_type": "code",
      "execution_count": 13,
      "id": "56fb1391",
      "metadata": {
        "id": "56fb1391"
      },
      "outputs": [
        {
          "name": "stdout",
          "output_type": "stream",
          "text": [
            "1/1 [==============================] - 0s 29ms/step\n"
          ]
        }
      ],
      "source": [
        "import numpy as np\n",
        "from keras.preprocessing import image\n",
        "st = \"D:\\Traffic sign classification\\Test\" + \"\\\\\"+ \"00005.png\"\n",
        "# st.replace(\"\\\\\",\"\\\")\n",
        "image = Image.open(st)\n",
        "image = image.resize((30,30))\n",
        "image = np.array(image)\n",
        "image = np.expand_dims(image, axis = 0)\n",
        "predict_result=model.predict(image)\n",
        "result = np.argmax(predict_result,axis=1)\n",
        "result = result[0]\n"
      ]
    },
    {
      "cell_type": "code",
      "execution_count": 14,
      "id": "60d7531a",
      "metadata": {
        "id": "60d7531a"
      },
      "outputs": [],
      "source": [
        "classes = [ 'Speed limit (20km/h)',\n",
        "            'Speed limit (30km/h)',\n",
        "            'Speed limit (50km/h)',\n",
        "            'Speed limit (60km/h)',\n",
        "            'Speed limit (70km/h)',\n",
        "            'Speed limit (80km/h)',\n",
        "            'End of speed limit (80km/h)',\n",
        "            'Speed limit (100km/h)',\n",
        "            'Speed limit (120km/h)',\n",
        "            'No passing',\n",
        "            'No passing veh over 3.5 tons',\n",
        "            'Right-of-way at intersection',\n",
        "            'Priority road',\n",
        "            'Yield',\n",
        "            'Stop',\n",
        "            'No vehicles',\n",
        "            'Veh > 3.5 tons prohibited',\n",
        "            'No entry',\n",
        "            'General caution',\n",
        "            'Dangerous curve left',\n",
        "            'Dangerous curve right',\n",
        "            'Double curve',\n",
        "            'Bumpy road',\n",
        "            'Slippery road',\n",
        "            'Road narrows on the right',\n",
        "            'Road work',\n",
        "            'Traffic signals',\n",
        "            'Pedestrians',\n",
        "            'Children crossing',\n",
        "            'Bicycles crossing',\n",
        "            'Beware of ice/snow',\n",
        "            'Wild animals crossing',\n",
        "            'End speed + passing limits',\n",
        "            'Turn right ahead',\n",
        "            'Turn left ahead',\n",
        "            'Ahead only',\n",
        "            'Go straight or right',\n",
        "            'Go straight or left',\n",
        "            'Keep right',\n",
        "            'Keep left',\n",
        "            'Roundabout mandatory',\n",
        "            'End of no passing',\n",
        "            'End no passing veh > 3.5 tons']"
      ]
    },
    {
      "cell_type": "code",
      "execution_count": 15,
      "id": "973a9af2",
      "metadata": {
        "id": "973a9af2"
      },
      "outputs": [
        {
          "data": {
            "text/plain": [
              "'Keep right'"
            ]
          },
          "execution_count": 15,
          "metadata": {},
          "output_type": "execute_result"
        }
      ],
      "source": [
        "classes[result]"
      ]
    },
    {
      "cell_type": "code",
      "execution_count": null,
      "id": "521e6f01",
      "metadata": {
        "id": "521e6f01"
      },
      "outputs": [],
      "source": []
    }
  ],
  "metadata": {
    "colab": {
      "provenance": []
    },
    "kernelspec": {
      "display_name": "Python 3 (ipykernel)",
      "language": "python",
      "name": "python3"
    },
    "language_info": {
      "codemirror_mode": {
        "name": "ipython",
        "version": 3
      },
      "file_extension": ".py",
      "mimetype": "text/x-python",
      "name": "python",
      "nbconvert_exporter": "python",
      "pygments_lexer": "ipython3",
      "version": "3.10.7"
    }
  },
  "nbformat": 4,
  "nbformat_minor": 5
}
